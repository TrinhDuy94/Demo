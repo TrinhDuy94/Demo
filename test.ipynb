{
 "cells": [
  {
   "cell_type": "code",
   "execution_count": 1,
   "metadata": {},
   "outputs": [
    {
     "name": "stdout",
     "output_type": "stream",
     "text": [
      "/private/var/mobile/Library/Mobile Documents/iCloud~AsheKube~Carnets/Documents\n",
      "\r"
     ]
    }
   ],
   "source": [
    "!pwd"
   ]
  },
  {
   "cell_type": "code",
   "execution_count": 1,
   "metadata": {},
   "outputs": [],
   "source": [
    "!mkdir Test"
   ]
  },
  {
   "cell_type": "code",
   "execution_count": 10,
   "metadata": {},
   "outputs": [],
   "source": [
    "!ls"
   ]
  },
  {
   "cell_type": "code",
   "execution_count": 3,
   "metadata": {},
   "outputs": [
    {
     "name": "stdout",
     "output_type": "stream",
     "text": [
      "/private/var/mobile/Library/Mobile Documents/iCloud~AsheKube~Carnets/Documents/Test\n"
     ]
    }
   ],
   "source": [
    "%cd Test"
   ]
  },
  {
   "cell_type": "code",
   "execution_count": 1,
   "metadata": {},
   "outputs": [
    {
     "name": "stdout",
     "output_type": "stream",
     "text": [
      "ile test nha\" >> test.txt\"\n",
      "\r"
     ]
    }
   ],
   "source": [
    "!echo \"file test nha\" >> test.txt"
   ]
  },
  {
   "cell_type": "code",
   "execution_count": 4,
   "metadata": {},
   "outputs": [],
   "source": [
    "!ls"
   ]
  },
  {
   "cell_type": "code",
   "execution_count": 13,
   "metadata": {},
   "outputs": [],
   "source": [
    "!ls -a"
   ]
  },
  {
   "cell_type": "code",
   "execution_count": 7,
   "metadata": {},
   "outputs": [
    {
     "name": "stdout",
     "output_type": "stream",
     "text": [
      "/private/var/mobile/Library/Mobile Documents/iCloud~AsheKube~Carnets/Documents/Test\n",
      "\r"
     ]
    }
   ],
   "source": [
    "!pwd"
   ]
  },
  {
   "cell_type": "code",
   "execution_count": 9,
   "metadata": {},
   "outputs": [
    {
     "name": "stdout",
     "output_type": "stream",
     "text": [
      "/private/var/mobile/Library/Mobile Documents/iCloud~AsheKube~Carnets/Documents/Test\n"
     ]
    }
   ],
   "source": [
    "%cd Test"
   ]
  },
  {
   "cell_type": "code",
   "execution_count": 6,
   "metadata": {},
   "outputs": [
    {
     "name": "stdout",
     "output_type": "stream",
     "text": [
      "\u001b[1m\u001b[34mDemo\u001b[39;49m\u001b[0m\t\tUntitled.ipynb\ttestthu.py\n",
      "\u001b[1m\u001b[34mTest\u001b[39;49m\u001b[0m\t\tpush.py\t\t\u001b[1m\u001b[34mwelcome\u001b[39;49m\u001b[0m\n",
      "\r"
     ]
    }
   ],
   "source": [
    "!ls"
   ]
  },
  {
   "cell_type": "code",
   "execution_count": 1,
   "metadata": {},
   "outputs": [
    {
     "name": "stdout",
     "output_type": "stream",
     "text": [
      "\u001b[1m\u001b[34mDemo\u001b[39;49m\u001b[0m\t\tUntitled.ipynb\ttestthu.py\n",
      "\u001b[1m\u001b[34mTest\u001b[39;49m\u001b[0m\t\tpush.py\t\t\u001b[1m\u001b[34mwelcome\u001b[39;49m\u001b[0m\n",
      "\r"
     ]
    }
   ],
   "source": [
    "!ls"
   ]
  },
  {
   "cell_type": "code",
   "execution_count": 5,
   "metadata": {},
   "outputs": [
    {
     "name": "stdout",
     "output_type": "stream",
     "text": [
      "import subprocess, os\n",
      "file = os.path.basename(\"/private/var/mobile/Library/Mobile Documents/iCloud~AsheKube~Carnets/Documents/Test/test.txt\")\n",
      "msg = \"thu add tren ipad\"\n",
      "repo = \"https://github.com/TrinhDuy94/Demo.git\"\n",
      "subprocess.call('git add '+ file, shell = True)\n",
      "subprocess.call('git commit -m '+'\"'+msg+'\"', shell = True)\n",
      "subprocess.call('git remote add origin '+repo, shell = True)\n",
      "subprocess.call('git push origin master', shell = True)\n",
      "subprocess.call('git status', shell = True)\n",
      "\r"
     ]
    }
   ],
   "source": [
    "!cat push.py"
   ]
  },
  {
   "cell_type": "code",
   "execution_count": 7,
   "metadata": {},
   "outputs": [],
   "source": [
    "!python push.py"
   ]
  },
  {
   "cell_type": "code",
   "execution_count": null,
   "metadata": {
    "scrolled": false
   },
   "outputs": [],
   "source": []
  },
  {
   "cell_type": "code",
   "execution_count": null,
   "metadata": {},
   "outputs": [],
   "source": []
  },
  {
   "cell_type": "code",
   "execution_count": null,
   "metadata": {},
   "outputs": [],
   "source": []
  }
 ],
 "metadata": {
  "kernelspec": {
   "display_name": "Python 3",
   "language": "python",
   "name": "python3"
  },
  "language_info": {
   "codemirror_mode": {
    "name": "ipython",
    "version": 3
   },
   "file_extension": ".py",
   "mimetype": "text/x-python",
   "name": "python",
   "nbconvert_exporter": "python",
   "pygments_lexer": "ipython3",
   "version": "3.7.1"
  }
 },
 "nbformat": 4,
 "nbformat_minor": 2
}
